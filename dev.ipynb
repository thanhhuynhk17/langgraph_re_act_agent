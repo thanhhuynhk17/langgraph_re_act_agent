{
 "cells": [
  {
   "cell_type": "code",
   "execution_count": 14,
   "id": "ef45c90a",
   "metadata": {},
   "outputs": [
    {
     "name": "stdout",
     "output_type": "stream",
     "text": [
      "{'properties': {'location': {'description': 'The location to check the weather for.', 'title': 'Location', 'type': 'string'}}, 'required': ['location'], 'title': 'WeatherInput', 'type': 'object'}\n",
      "{'properties': {'a': {'description': 'The first number.', 'title': 'A', 'type': 'number'}, 'b': {'description': 'The second number.', 'title': 'B', 'type': 'number'}}, 'required': ['a', 'b'], 'title': 'MultiplyInput', 'type': 'object'}\n",
      "{'properties': {'directory': {'default': None, 'description': 'Directory path to list files from. Leave empty to use the default allowed path.', 'title': 'Directory', 'type': 'string'}}, 'title': 'ListFilesInput', 'type': 'object'}\n",
      "{'description': 'Return the absolute path of a predefined directory that the agent can access.', 'properties': {}, 'title': 'allowed_location_dir', 'type': 'object'}\n"
     ]
    },
    {
     "data": {
      "text/plain": [
       "[None, None, None, None]"
      ]
     },
     "execution_count": 14,
     "metadata": {},
     "output_type": "execute_result"
    }
   ],
   "source": [
    "from prompts import TOOL_DESC\n",
    "from tools import check_weather, multiply, list_files, allowed_location_dir\n",
    "\n",
    "list_tool = [\n",
    "    check_weather, \n",
    "    multiply, \n",
    "    list_files, \n",
    "    allowed_location_dir\n",
    "]\n",
    "\n",
    "[print(t.args_schema.model_json_schema()) for t in list_tool]\n"
   ]
  },
  {
   "cell_type": "code",
   "execution_count": 38,
   "id": "40c3d084",
   "metadata": {},
   "outputs": [],
   "source": [
    "from pydantic import BaseModel\n",
    "\n",
    "def generate_tool_prompt(name_for_model: str, \n",
    "                        name_for_human: str, \n",
    "                        description_for_model: str, \n",
    "                        schema: type[BaseModel]) -> str:\n",
    "    # Get the JSON Schema (Pydantic v2)\n",
    "    schema_dict = schema.model_json_schema()\n",
    "\n",
    "    # Extract and format parameter descriptions\n",
    "    param_descriptions = []\n",
    "    properties = schema_dict.get(\"properties\", None)\n",
    "    if properties:\n",
    "        for field_name, field_info in properties.items():\n",
    "            desc = field_info.get(\"description\", \"No description\")\n",
    "            type_ = field_info.get(\"type\", \"unknown\")\n",
    "            required = field_name in schema_dict.get(\"required\", [])\n",
    "            required_str = \"required\" if required else \"optional\"\n",
    "            param_descriptions.append(f\"- `{field_name}` ({type_}, {required_str}): {desc}\")\n",
    "    else: # has no properties\n",
    "        param_descriptions = [\"- This tool takes no parameters.\"]\n",
    "    parameters = \"\\n\".join(param_descriptions)\n",
    "\n",
    "    # Final prompt\n",
    "    prompt = (\n",
    "        f\"{name_for_model}: Call this tool to interact with the {name_for_human} API.\\n\"\n",
    "        f\"What is the {name_for_human} API useful for? {description_for_model}\\n\"\n",
    "        f\"Parameters:\\n{parameters}\\n\\n\"\n",
    "    )\n",
    "\n",
    "    return prompt"
   ]
  },
  {
   "cell_type": "code",
   "execution_count": 39,
   "id": "df5bf85d",
   "metadata": {},
   "outputs": [
    {
     "name": "stdout",
     "output_type": "stream",
     "text": [
      "check_weather: Call this tool to interact with the check_weather API.\n",
      "What is the check_weather API useful for? Return the weather forecast for the specified location.\n",
      "Parameters:\n",
      "- `location` (string, required): The location to check the weather for.\n",
      "\n",
      "multiply: Call this tool to interact with the multiply API.\n",
      "What is the multiply API useful for? Multiply two numbers.\n",
      "Parameters:\n",
      "- `a` (number, required): The first number.\n",
      "- `b` (number, required): The second number.\n",
      "\n",
      "list_files: Call this tool to interact with the list_files API.\n",
      "What is the list_files API useful for? List all files in the specified directory as a tree.\n",
      "Parameters:\n",
      "- `directory` (string, optional): Directory path to list files from. Leave empty to use the default allowed path.\n",
      "\n",
      "allowed_location_dir: Call this tool to interact with the allowed_location_dir API.\n",
      "What is the allowed_location_dir API useful for? Return the absolute path of a predefined directory that the agent can access.\n",
      "Parameters:\n",
      "- This tool takes no parameters.\n",
      "\n",
      "\n"
     ]
    }
   ],
   "source": [
    "tool_desc = \"\"\n",
    "for t in list_tool:\n",
    "    tool_desc+=generate_tool_prompt(name_for_model=t.name,\n",
    "                        name_for_human=t.name,\n",
    "                        description_for_model=t.description,\n",
    "                        schema=t.args_schema)\n",
    "print(tool_desc)"
   ]
  },
  {
   "cell_type": "code",
   "execution_count": 43,
   "id": "003fad40",
   "metadata": {},
   "outputs": [
    {
     "name": "stdout",
     "output_type": "stream",
     "text": [
      "Answer the following questions as best you can. You have access to the following tools:\n",
      "\n",
      "tool_descs\n",
      "\n",
      "Use the following format:\n",
      "\n",
      "Question: the input question you must answer\n",
      "Thought: you should always think about what to do\n",
      "Action: the action to take, should be one of [.join([t.name for t in tools])]\n",
      "Action Input: the input to the action\n",
      "Observation: the result of the action\n",
      "... (this Thought/Action/Action Input/Observation can be repeated zero or more times)\n",
      "Thought: I now know the final answer\n",
      "Final Answer: the final answer to the original input question\n",
      "\n",
      "Begin!\n",
      "\n",
      "Question: query.content\n",
      "Thought: \n"
     ]
    }
   ],
   "source": [
    "from prompts import PROMPT_REACT\n",
    "\n",
    "\n",
    "print(PROMPT_REACT.format(\n",
    "        tool_descs=\"tool_descs\",\n",
    "        tool_names=\".join([t.name for t in tools])\",\n",
    "        query=\"query.content\"\n",
    "    ))"
   ]
  },
  {
   "cell_type": "code",
   "execution_count": null,
   "id": "53d443e8",
   "metadata": {},
   "outputs": [],
   "source": []
  }
 ],
 "metadata": {
  "kernelspec": {
   "display_name": "lvlmui",
   "language": "python",
   "name": "python3"
  },
  "language_info": {
   "codemirror_mode": {
    "name": "ipython",
    "version": 3
   },
   "file_extension": ".py",
   "mimetype": "text/x-python",
   "name": "python",
   "nbconvert_exporter": "python",
   "pygments_lexer": "ipython3",
   "version": "3.11.10"
  }
 },
 "nbformat": 4,
 "nbformat_minor": 5
}
